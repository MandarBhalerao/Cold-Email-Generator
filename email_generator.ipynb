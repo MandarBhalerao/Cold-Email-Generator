{
 "cells": [
  {
   "cell_type": "code",
   "execution_count": 1,
   "id": "0eccd20e",
   "metadata": {},
   "outputs": [],
   "source": [
    "from langchain_groq import ChatGroq"
   ]
  },
  {
   "cell_type": "code",
   "execution_count": 2,
   "id": "c16ff50e",
   "metadata": {},
   "outputs": [
    {
     "name": "stdout",
     "output_type": "stream",
     "text": [
      "The first person to land on the moon was Neil Armstrong. He stepped onto the lunar surface on July 20, 1969, as part of the Apollo 11 mission.\n"
     ]
    }
   ],
   "source": [
    "llm = ChatGroq(\n",
    "    temperature=0, \n",
    "    groq_api_key='your_api_key_here', \n",
    "    model_name=\"llama-3.1-70b-versatile\"\n",
    ")\n",
    "# checking the response, and it is very fast\n",
    "response = llm.invoke(\"The first person to land on moon was ...\")\n",
    "print(response.content)"
   ]
  },
  {
   "cell_type": "code",
   "execution_count": 3,
   "id": "66815076-34c6-4588-bcfc-853ad226d1a9",
   "metadata": {},
   "outputs": [],
   "source": [
    "# we need to setup a vector database, and we going to use chromadb\n",
    "# there are other solutions too, but chromadb is open source and very light weight"
   ]
  },
  {
   "cell_type": "code",
   "execution_count": 4,
   "id": "90d33612",
   "metadata": {},
   "outputs": [
    {
     "name": "stderr",
     "output_type": "stream",
     "text": [
      "USER_AGENT environment variable not set, consider setting it to identify your requests.\n"
     ]
    },
    {
     "name": "stdout",
     "output_type": "stream",
     "text": [
      "\n",
      "\n",
      "\n",
      "\n",
      "\n",
      "\n",
      "\n",
      "\n",
      "\n",
      "\n",
      "\n",
      "\n",
      "\n",
      "\n",
      "\n",
      "\n",
      "\n",
      "\n",
      "\n",
      "\n",
      "\n",
      "\n",
      "\n",
      "\n",
      "\n",
      "\n",
      "\n",
      "\n",
      "\n",
      "\n",
      "\n",
      "\n",
      "\n",
      "Data Scientist\n",
      "\n",
      "\n",
      "\n",
      "\n",
      "\n",
      "\n",
      "\n",
      "\n",
      "\n",
      "\n",
      "\n",
      "\n",
      "\n",
      "\n",
      "\n",
      "\n",
      "\n",
      "\n",
      "\n",
      "\n",
      "\n",
      "\n",
      "\n",
      "\n",
      "\n",
      "About\n",
      "Alum\n",
      "Inclusion\n",
      "Careers\n",
      "Culture\n",
      "Blog\n",
      "Tech\n",
      "\n",
      "\n",
      "\n",
      "\n",
      "\n",
      "\n",
      "\n",
      "\n",
      "\n",
      "\n",
      "Data Scientist\n",
      "Bengaluru\n",
      "\n",
      "\n",
      "\n",
      "\n",
      "\n",
      "\n",
      "\n",
      "\n",
      "Share\n",
      "\n",
      "\n",
      "\n",
      "\n",
      "\n",
      "\n",
      "\n",
      "\n",
      "\n",
      "Apply\n",
      "\n",
      "\n",
      "\n",
      "About Team\n",
      "Myntra Data Science team delivers a large number of data science solutions for the company which are deployed at various customer touch points every quarter. The models create significant revenue and customer experience impact. The models involve real-time, near-real-time and offline solutions with varying latency requirements. The models are built using massive datasets. You will have the opportunity to be part of a rapidly growing organization and gain exposure to all the parts of a comprehensive ecommerce platform. You’ll also get to learn the intricacies of building models that serve millions of requests per second at sub second latency. \n",
      "The team takes pride in deploying solutions that not only leverage state of the art machine learning models like graph neural networks, diffusion models, transformers, representation learning, optimization methods and bayesian modeling but also contribute to research literature with multiple peer-reviewed research papers.\n",
      "Roles and Responsibilities\n",
      "\n",
      "Design, develop and deploy machine learning models,algorithms and systems to solve complex business problems for Myntra Recsys, Search, Vision, SCM, Pricing, Forecasting, Trend and Virality prediction, Gen AI and other areas\n",
      "Theoretical understanding and practise of machine learning and expertise in one or more of the topics, such as, NLP, Computer Vision, recommender systems and Optimisation. \n",
      "Implement robust and reliable software solutions for model deployment.\n",
      "Support the team in maintaining machine learning pipelines, contributing to tasks like data cleaning, feature extraction and basic model training.\n",
      "Participate in monitoring the performance of machine learning models, gaining experience in using statistical methods for evaluation.\n",
      "Working with the Data Platforms teams for understanding and collecting the data.\n",
      "Conduct performance testing, troubleshooting and tuning as required.\n",
      "Stay current with the latest research and technology and communicate your knowledge throughout the enterprise.\n",
      "\n",
      "Qualifications & Experience\n",
      "\n",
      "Master’s/PhD in Computer Science, Mathematics, Statistics/related fields ‘or’ 1+ years of relevant industry experience with a Bachelor’s degree.\n",
      "Proficiency in Python or one other high-level programming language.\n",
      "Theoretical understanding of statistical models such as regression, clustering and ML algorithms such as decision trees, neural networks, etc.\n",
      "Strong written and verbal communication skills\n",
      "Intellectual curiosity and enthusiastic about continuous learning\n",
      "Experience developing machine learning models in Python,  or equivalent programming language.\n",
      "Basic familiarity with machine learning frameworks like TensorFlow, PyTorch, or scikit-learn.\n",
      "Introductory understanding of statistics as it applies to machine learning.\n",
      "Ability to manage and prioritize your workload and support his/her manager.\n",
      "Experience with SQL and/or NoSQL databases.\n",
      "If you are an exceptional candidate, write in. We are happy to hire you even if you don't have the certified qualifications.\n",
      "\n",
      "Nice to Have:\n",
      "\n",
      "Publications or presentations in recognized Machine Learning and Data Science journals/conferences.\n",
      "Experience with ML orchestration tools (Airflow, Kubeflow or MLFlow)\n",
      "Exposure to GenAI models.\n",
      "\n",
      " \n",
      "\n",
      "\n",
      "\n",
      "\n",
      "\n",
      "\n",
      "\n",
      "\n",
      "×\n",
      "\n",
      "\n",
      "\n",
      "\n",
      "Apply now\n",
      "\n",
      "\n",
      "\n",
      "\n",
      "Name *\n",
      "\n",
      "\n",
      "\n",
      "\n",
      "\n",
      "Last Name *\n",
      "\n",
      "\n",
      "\n",
      "\n",
      "\n",
      "Your Email *\n",
      "\n",
      "\n",
      "\n",
      "\n",
      "\n",
      "Phone *\n",
      "\n",
      "\n",
      "\n",
      "\n",
      "\n",
      "Your current location *\n",
      "\n",
      "\n",
      "\n",
      "\n",
      "\n",
      "Resume/CV *\n",
      "\n",
      "\n",
      "Attach\n",
      "\n",
      "×\n",
      "\n",
      "\n",
      "\n",
      "Cover Letter\n",
      "\n",
      "\n",
      "Attach\n",
      "Paste\n",
      "\n",
      "×\n",
      "\n",
      "\n",
      "\n",
      "\n",
      "\n",
      "Submit  \n",
      "\n",
      "\n",
      "\n",
      "\n",
      "\n",
      "\n",
      "\n",
      "\n",
      "\n",
      "\n",
      "\n",
      "\n",
      "We got your Appliaction, our team will get back to you soon.\n",
      "\n",
      "\n",
      "\n",
      "\n",
      "\n",
      "\n",
      "\n",
      "\n",
      "\n",
      "\n",
      "\n",
      "Looks like the application has not uploaded, Please try agin.\n",
      "\n",
      "\n",
      "\n",
      "\n",
      "\n",
      "\n",
      "\n",
      "\n",
      "\n",
      "\n",
      "\n",
      "\n",
      "\n",
      "\n",
      "\n",
      "Bengaluru (HQ)\n",
      "\n",
      "gurgaon\n",
      "\n",
      "Mumbai\n",
      "\n",
      "\n",
      "\n",
      "\n",
      "\n",
      "\n",
      "contact\n",
      "Shop\n",
      "Careers\n",
      "Privacy Policy\n",
      "Terms & Conditions\n",
      "\n",
      "\n",
      "Myntra is proud to be an Equal Opportunity Employer\n",
      "\n",
      "\n",
      "© 2019 www.myntra.com. All rights reserved.\n",
      "\n",
      "\n",
      "\n",
      "\n",
      "\n",
      "\n",
      "\n",
      "\n",
      "\n",
      "\n",
      "\n",
      "\n",
      "\n",
      "\n",
      "\n",
      "\n",
      "\n",
      "\n",
      "\n",
      "\n",
      "\n",
      "\n",
      "\n",
      "\n"
     ]
    }
   ],
   "source": [
    "# WebBaseLoader will accept the url and extract the data from that, ie web scraping\n",
    "\n",
    "from langchain_community.document_loaders import WebBaseLoader\n",
    "\n",
    "loader = WebBaseLoader(\"https://careers.myntra.com/job-detail/?id=7431200002\")\n",
    "page_data = loader.load().pop().page_content\n",
    "print(page_data)"
   ]
  },
  {
   "cell_type": "code",
   "execution_count": 5,
   "id": "85c89a57",
   "metadata": {},
   "outputs": [],
   "source": [
    "from langchain_core.prompts import PromptTemplate\n",
    "# (NO PREAMBLE) means dont give that initial text like Here is your response.\n",
    "prompt_extract = PromptTemplate.from_template(\n",
    "        \"\"\"\n",
    "        ### SCRAPED TEXT FROM WEBSITE:\n",
    "        {page_data}\n",
    "        ### INSTRUCTION:\n",
    "        The scraped text is from the career's page of a website.\n",
    "        Your job is to extract the job postings and return them in JSON format containing the \n",
    "        following keys: `role`, `experience`, `skills` and `description`.\n",
    "        Only return the valid JSON.\n",
    "        ### VALID JSON (NO PREAMBLE):    \n",
    "        \"\"\"\n",
    ")"
   ]
  },
  {
   "cell_type": "code",
   "execution_count": 6,
   "id": "5267bb13-3402-4f91-9899-77c8b9e08e48",
   "metadata": {},
   "outputs": [
    {
     "name": "stdout",
     "output_type": "stream",
     "text": [
      "[\n",
      "  {\n",
      "    \"role\": \"Data Scientist\",\n",
      "    \"experience\": \"1+ years of relevant industry experience with a Bachelor’s degree or Master’s/PhD in Computer Science, Mathematics, Statistics/related fields\",\n",
      "    \"skills\": [\n",
      "      \"Python or one other high-level programming language\",\n",
      "      \"Theoretical understanding of statistical models such as regression, clustering and ML algorithms such as decision trees, neural networks, etc.\",\n",
      "      \"Machine learning frameworks like TensorFlow, PyTorch, or scikit-learn\",\n",
      "      \"SQL and/or NoSQL databases\"\n",
      "    ],\n",
      "    \"description\": \"Design, develop and deploy machine learning models, algorithms and systems to solve complex business problems for Myntra Recsys, Search, Vision, SCM, Pricing, Forecasting, Trend and Virality prediction, Gen AI and other areas. Theoretical understanding and practise of machine learning and expertise in one or more of the topics, such as, NLP, Computer Vision, recommender systems and Optimisation.\"\n",
      "  }\n",
      "]\n"
     ]
    }
   ],
   "source": [
    "chain_extract = prompt_extract | llm    # this will form a langchain chain ie you are getting a prompt and passing it to LLM \n",
    "res = chain_extract.invoke(input={'page_data':page_data})\n",
    "print(res.content)\n",
    "\n",
    "# we got the json format of the job description"
   ]
  },
  {
   "cell_type": "code",
   "execution_count": 7,
   "id": "c0213559-8127-4ce4-90b9-8ad913fa5b69",
   "metadata": {},
   "outputs": [
    {
     "data": {
      "text/plain": [
       "str"
      ]
     },
     "execution_count": 7,
     "metadata": {},
     "output_type": "execute_result"
    }
   ],
   "source": [
    "# but the type of it is string, we want json object so we will use JSON Parser\n",
    "type(res.content)"
   ]
  },
  {
   "cell_type": "code",
   "execution_count": 8,
   "id": "5415fd54",
   "metadata": {},
   "outputs": [
    {
     "data": {
      "text/plain": [
       "[{'role': 'Data Scientist',\n",
       "  'experience': '1+ years of relevant industry experience with a Bachelor’s degree or Master’s/PhD in Computer Science, Mathematics, Statistics/related fields',\n",
       "  'skills': ['Python or one other high-level programming language',\n",
       "   'Theoretical understanding of statistical models such as regression, clustering and ML algorithms such as decision trees, neural networks, etc.',\n",
       "   'Machine learning frameworks like TensorFlow, PyTorch, or scikit-learn',\n",
       "   'SQL and/or NoSQL databases'],\n",
       "  'description': 'Design, develop and deploy machine learning models, algorithms and systems to solve complex business problems for Myntra Recsys, Search, Vision, SCM, Pricing, Forecasting, Trend and Virality prediction, Gen AI and other areas. Theoretical understanding and practise of machine learning and expertise in one or more of the topics, such as, NLP, Computer Vision, recommender systems and Optimisation.'}]"
      ]
     },
     "execution_count": 8,
     "metadata": {},
     "output_type": "execute_result"
    }
   ],
   "source": [
    "from langchain_core.output_parsers import JsonOutputParser\n",
    "\n",
    "json_parser = JsonOutputParser()\n",
    "json_res = json_parser.parse(res.content)\n",
    "json_res"
   ]
  },
  {
   "cell_type": "code",
   "execution_count": 9,
   "id": "c4226c86-9f8c-4206-9706-c4d93724a584",
   "metadata": {},
   "outputs": [
    {
     "data": {
      "text/plain": [
       "1"
      ]
     },
     "execution_count": 9,
     "metadata": {},
     "output_type": "execute_result"
    }
   ],
   "source": [
    "len(json_res)"
   ]
  },
  {
   "cell_type": "code",
   "execution_count": 10,
   "id": "39961ed6",
   "metadata": {},
   "outputs": [
    {
     "data": {
      "text/plain": [
       "list"
      ]
     },
     "execution_count": 10,
     "metadata": {},
     "output_type": "execute_result"
    }
   ],
   "source": [
    "type(json_res)\n",
    "# but we want a dictionary"
   ]
  },
  {
   "cell_type": "code",
   "execution_count": 11,
   "id": "eb173c02-93d5-4cff-8763-483834fc7c5c",
   "metadata": {},
   "outputs": [],
   "source": [
    "# Check if the result is a list and extract the first dictionary\n",
    "if isinstance(json_res, list):\n",
    "    json_res = json_res[0]"
   ]
  },
  {
   "cell_type": "code",
   "execution_count": 12,
   "id": "0614b58c-7ac4-48ad-a20a-69180d759b93",
   "metadata": {},
   "outputs": [
    {
     "data": {
      "text/plain": [
       "{'role': 'Data Scientist',\n",
       " 'experience': '1+ years of relevant industry experience with a Bachelor’s degree or Master’s/PhD in Computer Science, Mathematics, Statistics/related fields',\n",
       " 'skills': ['Python or one other high-level programming language',\n",
       "  'Theoretical understanding of statistical models such as regression, clustering and ML algorithms such as decision trees, neural networks, etc.',\n",
       "  'Machine learning frameworks like TensorFlow, PyTorch, or scikit-learn',\n",
       "  'SQL and/or NoSQL databases'],\n",
       " 'description': 'Design, develop and deploy machine learning models, algorithms and systems to solve complex business problems for Myntra Recsys, Search, Vision, SCM, Pricing, Forecasting, Trend and Virality prediction, Gen AI and other areas. Theoretical understanding and practise of machine learning and expertise in one or more of the topics, such as, NLP, Computer Vision, recommender systems and Optimisation.'}"
      ]
     },
     "execution_count": 12,
     "metadata": {},
     "output_type": "execute_result"
    }
   ],
   "source": [
    "json_res"
   ]
  },
  {
   "cell_type": "code",
   "execution_count": 13,
   "id": "62c524d8-3e3a-4922-af5b-4874307298f0",
   "metadata": {},
   "outputs": [],
   "source": [
    "# now its a dicitionary"
   ]
  },
  {
   "cell_type": "code",
   "execution_count": 14,
   "id": "1e8a0f74",
   "metadata": {},
   "outputs": [
    {
     "data": {
      "text/html": [
       "<div>\n",
       "<style scoped>\n",
       "    .dataframe tbody tr th:only-of-type {\n",
       "        vertical-align: middle;\n",
       "    }\n",
       "\n",
       "    .dataframe tbody tr th {\n",
       "        vertical-align: top;\n",
       "    }\n",
       "\n",
       "    .dataframe thead th {\n",
       "        text-align: right;\n",
       "    }\n",
       "</style>\n",
       "<table border=\"1\" class=\"dataframe\">\n",
       "  <thead>\n",
       "    <tr style=\"text-align: right;\">\n",
       "      <th></th>\n",
       "      <th>Techstack</th>\n",
       "      <th>Links</th>\n",
       "    </tr>\n",
       "  </thead>\n",
       "  <tbody>\n",
       "    <tr>\n",
       "      <th>0</th>\n",
       "      <td>Machine Learning, ML, Python</td>\n",
       "      <td>https://github.com/MandarBhalerao/Gurgaon-Real...</td>\n",
       "    </tr>\n",
       "    <tr>\n",
       "      <th>1</th>\n",
       "      <td>Recommendation System, Python</td>\n",
       "      <td>https://github.com/MandarBhalerao/Movie-Recomm...</td>\n",
       "    </tr>\n",
       "    <tr>\n",
       "      <th>2</th>\n",
       "      <td>C++, CUDA</td>\n",
       "      <td>https://github.com/MandarBhalerao/Dilated-Conv...</td>\n",
       "    </tr>\n",
       "    <tr>\n",
       "      <th>3</th>\n",
       "      <td>React, Node.js, MongoDB</td>\n",
       "      <td>https://example.com/react-portfolio</td>\n",
       "    </tr>\n",
       "    <tr>\n",
       "      <th>4</th>\n",
       "      <td>Angular,.NET, SQL Server</td>\n",
       "      <td>https://example.com/angular-portfolio</td>\n",
       "    </tr>\n",
       "    <tr>\n",
       "      <th>5</th>\n",
       "      <td>Vue.js, Ruby on Rails, PostgreSQL</td>\n",
       "      <td>https://example.com/vue-portfolio</td>\n",
       "    </tr>\n",
       "    <tr>\n",
       "      <th>6</th>\n",
       "      <td>Java, Spring Boot, Oracle</td>\n",
       "      <td>https://example.com/java-portfolio</td>\n",
       "    </tr>\n",
       "    <tr>\n",
       "      <th>7</th>\n",
       "      <td>Flutter, Firebase, GraphQL</td>\n",
       "      <td>https://example.com/flutter-portfolio</td>\n",
       "    </tr>\n",
       "    <tr>\n",
       "      <th>8</th>\n",
       "      <td>WordPress, PHP, MySQL</td>\n",
       "      <td>https://example.com/wordpress-portfolio</td>\n",
       "    </tr>\n",
       "    <tr>\n",
       "      <th>9</th>\n",
       "      <td>Magento, PHP, MySQL</td>\n",
       "      <td>https://example.com/magento-portfolio</td>\n",
       "    </tr>\n",
       "    <tr>\n",
       "      <th>10</th>\n",
       "      <td>React Native, Node.js, MongoDB</td>\n",
       "      <td>https://example.com/react-native-portfolio</td>\n",
       "    </tr>\n",
       "    <tr>\n",
       "      <th>11</th>\n",
       "      <td>iOS, Swift, Core Data</td>\n",
       "      <td>https://example.com/ios-portfolio</td>\n",
       "    </tr>\n",
       "    <tr>\n",
       "      <th>12</th>\n",
       "      <td>Android, Java, Room Persistence</td>\n",
       "      <td>https://example.com/android-portfolio</td>\n",
       "    </tr>\n",
       "    <tr>\n",
       "      <th>13</th>\n",
       "      <td>Kotlin, Android, Firebase</td>\n",
       "      <td>https://example.com/kotlin-android-portfolio</td>\n",
       "    </tr>\n",
       "    <tr>\n",
       "      <th>14</th>\n",
       "      <td>Android TV, Kotlin, Android NDK</td>\n",
       "      <td>https://example.com/android-tv-portfolio</td>\n",
       "    </tr>\n",
       "    <tr>\n",
       "      <th>15</th>\n",
       "      <td>iOS, Swift, ARKit</td>\n",
       "      <td>https://example.com/ios-ar-portfolio</td>\n",
       "    </tr>\n",
       "    <tr>\n",
       "      <th>16</th>\n",
       "      <td>Cross-platform, Xamarin, Azure</td>\n",
       "      <td>https://example.com/xamarin-portfolio</td>\n",
       "    </tr>\n",
       "    <tr>\n",
       "      <th>17</th>\n",
       "      <td>Backend, Kotlin, Spring Boot</td>\n",
       "      <td>https://example.com/kotlin-backend-portfolio</td>\n",
       "    </tr>\n",
       "    <tr>\n",
       "      <th>18</th>\n",
       "      <td>Frontend, TypeScript, Angular</td>\n",
       "      <td>https://example.com/typescript-frontend-portfolio</td>\n",
       "    </tr>\n",
       "    <tr>\n",
       "      <th>19</th>\n",
       "      <td>Full-stack, JavaScript, Express.js</td>\n",
       "      <td>https://example.com/full-stack-js-portfolio</td>\n",
       "    </tr>\n",
       "    <tr>\n",
       "      <th>20</th>\n",
       "      <td>DevOps, Jenkins, Docker</td>\n",
       "      <td>https://example.com/devops-portfolio</td>\n",
       "    </tr>\n",
       "  </tbody>\n",
       "</table>\n",
       "</div>"
      ],
      "text/plain": [
       "                             Techstack  \\\n",
       "0         Machine Learning, ML, Python   \n",
       "1        Recommendation System, Python   \n",
       "2                            C++, CUDA   \n",
       "3              React, Node.js, MongoDB   \n",
       "4             Angular,.NET, SQL Server   \n",
       "5    Vue.js, Ruby on Rails, PostgreSQL   \n",
       "6            Java, Spring Boot, Oracle   \n",
       "7           Flutter, Firebase, GraphQL   \n",
       "8                WordPress, PHP, MySQL   \n",
       "9                  Magento, PHP, MySQL   \n",
       "10      React Native, Node.js, MongoDB   \n",
       "11               iOS, Swift, Core Data   \n",
       "12     Android, Java, Room Persistence   \n",
       "13           Kotlin, Android, Firebase   \n",
       "14     Android TV, Kotlin, Android NDK   \n",
       "15                   iOS, Swift, ARKit   \n",
       "16      Cross-platform, Xamarin, Azure   \n",
       "17        Backend, Kotlin, Spring Boot   \n",
       "18       Frontend, TypeScript, Angular   \n",
       "19  Full-stack, JavaScript, Express.js   \n",
       "20             DevOps, Jenkins, Docker   \n",
       "\n",
       "                                                Links  \n",
       "0   https://github.com/MandarBhalerao/Gurgaon-Real...  \n",
       "1   https://github.com/MandarBhalerao/Movie-Recomm...  \n",
       "2   https://github.com/MandarBhalerao/Dilated-Conv...  \n",
       "3                 https://example.com/react-portfolio  \n",
       "4               https://example.com/angular-portfolio  \n",
       "5                   https://example.com/vue-portfolio  \n",
       "6                  https://example.com/java-portfolio  \n",
       "7               https://example.com/flutter-portfolio  \n",
       "8             https://example.com/wordpress-portfolio  \n",
       "9               https://example.com/magento-portfolio  \n",
       "10         https://example.com/react-native-portfolio  \n",
       "11                  https://example.com/ios-portfolio  \n",
       "12              https://example.com/android-portfolio  \n",
       "13       https://example.com/kotlin-android-portfolio  \n",
       "14           https://example.com/android-tv-portfolio  \n",
       "15               https://example.com/ios-ar-portfolio  \n",
       "16              https://example.com/xamarin-portfolio  \n",
       "17       https://example.com/kotlin-backend-portfolio  \n",
       "18  https://example.com/typescript-frontend-portfolio  \n",
       "19        https://example.com/full-stack-js-portfolio  \n",
       "20               https://example.com/devops-portfolio  "
      ]
     },
     "execution_count": 14,
     "metadata": {},
     "output_type": "execute_result"
    }
   ],
   "source": [
    "# so whenever there is a job posting, we will extract this skills from the job \n",
    "# and we will match it with one or multiple of these technologies mentioned in the csv file and it will retrive those portfolio urls\n",
    "# which we will use while writing an email\n",
    "\n",
    "import pandas as pd\n",
    "\n",
    "df = pd.read_csv(\"my_portfolio.csv\")\n",
    "df"
   ]
  },
  {
   "cell_type": "code",
   "execution_count": 15,
   "id": "f7e888d4",
   "metadata": {},
   "outputs": [],
   "source": [
    "import uuid\n",
    "import chromadb\n",
    "\n",
    "# when you use Client, it will create a chromadb in memory\n",
    "# but when we use PersistentClient it will create a chromadb on a disk ie it will be stored in our current folder so that we can retrive it anytime\n",
    "client = chromadb.PersistentClient('vectorstore')\n",
    "collection = client.get_or_create_collection(name=\"portfolio\")\n",
    "\n",
    "\n",
    "if not collection.count():     # this means if collection does not have any count ie if it is being created for the first time\n",
    "    for _, row in df.iterrows():    # then you iterate through all your dataframe rows, and for each row, you are adding a document\n",
    "        collection.add(documents=row[\"Techstack\"],\n",
    "                       metadatas={\"links\": row[\"Links\"]},\n",
    "                       ids=[str(uuid.uuid4())])"
   ]
  },
  {
   "cell_type": "code",
   "execution_count": 16,
   "id": "32d50152-4ddb-49e2-9143-c589a82fd137",
   "metadata": {},
   "outputs": [],
   "source": [
    "# a folder named vectorstore will be created and data will be stored there"
   ]
  },
  {
   "cell_type": "code",
   "execution_count": 17,
   "id": "690b55b3-c5dc-4f83-93d0-a6aa2d34cff4",
   "metadata": {},
   "outputs": [],
   "source": [
    "job = json_res"
   ]
  },
  {
   "cell_type": "code",
   "execution_count": 18,
   "id": "39ad2fa2",
   "metadata": {},
   "outputs": [
    {
     "data": {
      "text/plain": [
       "[[{'links': 'https://example.com/ml-python-portfolio'},\n",
       "  {'links': 'https://example.com/python-portfolio'}],\n",
       " [{'links': 'https://example.com/ml-python-portfolio'},\n",
       "  {'links': 'https://example.com/python-portfolio'}],\n",
       " [{'links': 'https://example.com/ml-python-portfolio'},\n",
       "  {'links': 'https://example.com/ios-ar-portfolio'}],\n",
       " [{'links': 'https://example.com/magento-portfolio'},\n",
       "  {'links': 'https://example.com/angular-portfolio'}]]"
      ]
     },
     "execution_count": 18,
     "metadata": {},
     "output_type": "execute_result"
    }
   ],
   "source": [
    "# just making a query and checking\n",
    "\n",
    "links = collection.query(query_texts=job['skills'], n_results=2).get('metadatas', [])\n",
    "links"
   ]
  },
  {
   "cell_type": "code",
   "execution_count": 19,
   "id": "8bd36844",
   "metadata": {},
   "outputs": [
    {
     "data": {
      "text/plain": [
       "{'role': 'Data Scientist',\n",
       " 'experience': '1+ years of relevant industry experience with a Bachelor’s degree or Master’s/PhD in Computer Science, Mathematics, Statistics/related fields',\n",
       " 'skills': ['Python or one other high-level programming language',\n",
       "  'Theoretical understanding of statistical models such as regression, clustering and ML algorithms such as decision trees, neural networks, etc.',\n",
       "  'Machine learning frameworks like TensorFlow, PyTorch, or scikit-learn',\n",
       "  'SQL and/or NoSQL databases'],\n",
       " 'description': 'Design, develop and deploy machine learning models, algorithms and systems to solve complex business problems for Myntra Recsys, Search, Vision, SCM, Pricing, Forecasting, Trend and Virality prediction, Gen AI and other areas. Theoretical understanding and practise of machine learning and expertise in one or more of the topics, such as, NLP, Computer Vision, recommender systems and Optimisation.'}"
      ]
     },
     "execution_count": 19,
     "metadata": {},
     "output_type": "execute_result"
    }
   ],
   "source": [
    "job"
   ]
  },
  {
   "cell_type": "code",
   "execution_count": 20,
   "id": "1ccfd720",
   "metadata": {},
   "outputs": [
    {
     "data": {
      "text/plain": [
       "['Python or one other high-level programming language',\n",
       " 'Theoretical understanding of statistical models such as regression, clustering and ML algorithms such as decision trees, neural networks, etc.',\n",
       " 'Machine learning frameworks like TensorFlow, PyTorch, or scikit-learn',\n",
       " 'SQL and/or NoSQL databases']"
      ]
     },
     "execution_count": 20,
     "metadata": {},
     "output_type": "execute_result"
    }
   ],
   "source": [
    "job['skills']"
   ]
  },
  {
   "cell_type": "code",
   "execution_count": 21,
   "id": "64a97dd2",
   "metadata": {},
   "outputs": [],
   "source": [
    "# this is prompt template for writing an email\n",
    "\n",
    "prompt_email = PromptTemplate.from_template(\n",
    "        \"\"\"\n",
    "        ### JOB DESCRIPTION:\n",
    "        {job_description}\n",
    "\n",
    "        ### INSTRUCTION:\n",
    "        You are Mandar Bhalerao, an MTech student at the Indian Institute of Science, Bangalore, focusing on Computer Science and Automation. Your academic journey is complemented by hands-on internships where you've applied cutting-edge machine learning and deep learning techniques to real-world problems.\n",
    "\n",
    "        Your task is to write a cold email to the hiring manager detailing your experiences and projects that highlight your expertise in AI and machine learning. Start with introducing yourself using the above details and then discuss your role in enhancing the performance of Stable Diffusion models by using Knowledge Distillation Techniques at NeuroPixel.AI , achieving a 30 percent reduction in inference steps. Elaborate on your project, \"Gurgaon Real Estate Price Prediction,\" where you implemented advanced machine learning models to achieve an R² score of 0.90 and developed a dual-layer recommendation system.\n",
    "\n",
    "        Also, include your experience at Western Union, where you used Quantum Metric to improve user experience design, increasing conversion rates by 10%. Provide insights into your technical skills, particularly in Python and C++, and how these have supported your project implementations.\n",
    "\n",
    "        Remember, you are Mandar, with a strong foundation in theoretical knowledge and practical application of machine learning, deep learning and AI technologies. Discuss the methodologies you employed, the challenges you overcame, and the real-world impact of your projects.\n",
    "        \n",
    "        Your job is to write a cold email to the hiring manager regarding the job mentioned above describing the capability of you \n",
    "        in fulfilling their needs.\n",
    "        \n",
    "        Also add the most relevant ones from the following links to showcase Mandar's work in these domains: {link_list}\n",
    "        Remember you are Mandar Bhalerao, an MTech student at the Indian Institute of Science, Bangalore.\n",
    "        End the email with Mandar Bhalerao, (new line) MTech in Computer Science and Automation, (new line) IISc Bangalore. \n",
    "        Do not provide a preamble.\n",
    "        ### EMAIL (NO PREAMBLE):\n",
    "\n",
    "        \"\"\"\n",
    "        )\n",
    "\n",
    "# the things inside curly brackets like {link_list}, then this is something we will give as an argument to a prompt template"
   ]
  },
  {
   "cell_type": "code",
   "execution_count": 22,
   "id": "573c8103-f196-42a7-88f8-3a367d28b4c3",
   "metadata": {},
   "outputs": [
    {
     "name": "stdout",
     "output_type": "stream",
     "text": [
      "Subject: Application for Data Scientist Role at Myntra\n",
      "\n",
      "Dear Hiring Manager,\n",
      "\n",
      "I am Mandar Bhalerao, an MTech student at the Indian Institute of Science, Bangalore, with a strong foundation in Computer Science and Automation. I am excited to apply for the Data Scientist role at Myntra, where I can leverage my expertise in machine learning and AI to drive business growth.\n",
      "\n",
      "As a hands-on practitioner with a solid theoretical understanding of statistical models and machine learning algorithms, I am confident in my ability to design, develop, and deploy models that solve complex business problems. My experience in applying cutting-edge techniques to real-world problems has equipped me with the skills to tackle challenges in areas such as NLP, Computer Vision, recommender systems, and optimization.\n",
      "\n",
      "One of my notable projects was at NeuroPixel.AI, where I worked on enhancing the performance of Stable Diffusion models using Knowledge Distillation Techniques. By employing this approach, I achieved a 30% reduction in inference steps, significantly improving the model's efficiency. This project showcased my ability to apply theoretical knowledge to practical problems and drive tangible results.\n",
      "\n",
      "Another project that highlights my expertise is the \"Gurgaon Real Estate Price Prediction\" model, where I implemented advanced machine learning models to achieve an R² score of 0.90. Additionally, I developed a dual-layer recommendation system that demonstrated my ability to design and deploy complex systems. This project showcased my skills in data analysis, model development, and system design.\n",
      "\n",
      "In my previous internship at Western Union, I utilized Quantum Metric to improve user experience design, resulting in a 10% increase in conversion rates. This experience demonstrated my ability to apply data-driven insights to drive business outcomes.\n",
      "\n",
      "From a technical standpoint, I am proficient in Python and C++, which have been instrumental in supporting my project implementations. My expertise in these programming languages has enabled me to develop and deploy efficient models that drive business results.\n",
      "\n",
      "To showcase my work, I would like to share the following relevant links:\n",
      "\n",
      "- https://example.com/ml-python-portfolio\n",
      "- https://example.com/python-portfolio\n",
      "\n",
      "These links demonstrate my capabilities in machine learning and Python, which are essential skills for the Data Scientist role at Myntra.\n",
      "\n",
      "I am excited about the opportunity to join Myntra and contribute my skills and expertise to drive business growth. Thank you for considering my application.\n",
      "\n",
      "Mandar Bhalerao\n",
      "MTech in Computer Science and Automation\n",
      "IISc Bangalore\n"
     ]
    }
   ],
   "source": [
    "# again creating a chain of prompt_email and llm\n",
    "# invoking the chain by passing the parameter of job_description and link_list\n",
    "\n",
    "chain_email = prompt_email | llm\n",
    "res = chain_email.invoke({\"job_description\": str(job), \"link_list\": links})\n",
    "print(res.content)"
   ]
  },
  {
   "cell_type": "code",
   "execution_count": null,
   "id": "26a9536d-5fa6-42cf-884d-78fbd637d412",
   "metadata": {},
   "outputs": [],
   "source": []
  },
  {
   "cell_type": "code",
   "execution_count": null,
   "id": "b3e94e8e-428a-494b-b37b-2751215426b7",
   "metadata": {},
   "outputs": [],
   "source": []
  },
  {
   "cell_type": "code",
   "execution_count": null,
   "id": "c319ba1f-6dea-4fe8-98eb-319f4187b0e0",
   "metadata": {},
   "outputs": [],
   "source": []
  }
 ],
 "metadata": {
  "kernelspec": {
   "display_name": "Python 3 (ipykernel)",
   "language": "python",
   "name": "python3"
  },
  "language_info": {
   "codemirror_mode": {
    "name": "ipython",
    "version": 3
   },
   "file_extension": ".py",
   "mimetype": "text/x-python",
   "name": "python",
   "nbconvert_exporter": "python",
   "pygments_lexer": "ipython3",
   "version": "3.10.7"
  }
 },
 "nbformat": 4,
 "nbformat_minor": 5
}
